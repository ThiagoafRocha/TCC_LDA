{
 "cells": [
  {
   "cell_type": "code",
   "execution_count": 2,
   "id": "321a9b88-fc84-4ff9-9cfc-07488152d805",
   "metadata": {},
   "outputs": [
    {
     "data": {
      "image/png": "[encoded data removed]",
      "text/plain": [
       "<Figure size 432x288 with 1 Axes>"
      ]
     },
     "metadata": {
      "needs_background": "light"
     },
     "output_type": "display_data"
    }
   ],
   "source": [
    "import numpy as np\n",
    "import matplotlib.pyplot as plt\n",
    "\n",
    "topic = [ '0', '1', '2', '3', '4', '5', '6', '7', '8', '9']\n",
    "percent = [10.09, 9.82, 8.83, 9.01, 10.58, 12.69, 7.95, 8.98, 12.49, 9.56]\n",
    "\n",
    "plt.bar(topic, percent, color=\"green\")\n",
    "plt.xticks(topic)\n",
    "plt.ylabel('Porcentagem')\n",
    "plt.xlabel('Tópico')\n",
    "plt.title('Porcentagem de cada tópico')\n",
    "plt.show()"
   ]
  },
  {
   "cell_type": "code",
   "execution_count": null,
   "id": "08f43a0a-c1b9-46c6-8734-81d71ecc3311",
   "metadata": {},
   "outputs": [],
   "source": []
  }
 ],
 "metadata": {
  "kernelspec": {
   "display_name": "Python 3 (ipykernel)",
   "language": "python",
   "name": "python3"
  },
  "language_info": {
   "codemirror_mode": {
    "name": "ipython",
    "version": 3
   },
   "file_extension": ".py",
   "mimetype": "text/x-python",
   "name": "python",
   "nbconvert_exporter": "python",
   "pygments_lexer": "ipython3",
   "version": "3.9.5"
  }
 },
 "nbformat": 4,
 "nbformat_minor": 5
}
